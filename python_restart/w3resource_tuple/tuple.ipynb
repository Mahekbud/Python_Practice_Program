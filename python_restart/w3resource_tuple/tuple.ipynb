{
 "cells": [
  {
   "cell_type": "code",
   "execution_count": null,
   "metadata": {},
   "outputs": [],
   "source": [
    "# find index\n",
    "\n",
    "x = (\"apple\", \"banana\", \"cherry\")\n",
    "\n",
    "position = x.index(\"banana\")\n",
    "\n",
    "print(position)"
   ]
  },
  {
   "cell_type": "code",
   "execution_count": null,
   "metadata": {},
   "outputs": [],
   "source": [
    "# add item list\n",
    "\n",
    "tuple1 = (0, 1, 2, 3, 4, 5)\n",
    "\n",
    "sample_list = list(tuple1)\n",
    "\n",
    "sample_list.append(6)\n",
    "\n",
    "tuple1 = tuple(sample_list)\n",
    "print(tuple1)  \n"
   ]
  },
  {
   "cell_type": "code",
   "execution_count": null,
   "metadata": {},
   "outputs": [],
   "source": [
    "# modify last item's first value\n",
    "\n",
    "tuple1 = (10, 20, [25, 75, 85])\n",
    "\n",
    "print(tuple1)\n",
    "\n",
    "tuple1[2][0] = 250\n",
    "\n",
    "print(tuple1)\n"
   ]
  },
  {
   "cell_type": "code",
   "execution_count": null,
   "metadata": {},
   "outputs": [],
   "source": [
    "# tuple in index value change \n",
    "\n",
    "tuple1 = (0, 1, 2, 3, 4, 5)\n",
    "\n",
    "sample_list = list(tuple1)\n",
    "\n",
    "sample_list[1] = 10\n",
    "\n",
    "tuple1 = tuple(sample_list)\n",
    "print(tuple1)  \n"
   ]
  },
  {
   "cell_type": "code",
   "execution_count": null,
   "metadata": {},
   "outputs": [],
   "source": [
    "# remove item\n",
    "\n",
    "tuple1 = (0, 1, 2, 3, 4, 5)\n",
    "\n",
    "sample_list = list(tuple1)\n",
    "\n",
    "sample_list.remove(2)\n",
    "\n",
    "tuple1 = tuple(sample_list)\n",
    "print(tuple1)  \n"
   ]
  },
  {
   "cell_type": "code",
   "execution_count": null,
   "metadata": {},
   "outputs": [],
   "source": [
    "# create a tuple\n",
    "\n",
    "x = ()\n",
    "\n",
    "print(x)\n",
    "\n",
    "tuplex = tuple()\n",
    "\n",
    "print(tuplex) \n",
    "\n"
   ]
  },
  {
   "cell_type": "code",
   "execution_count": null,
   "metadata": {},
   "outputs": [],
   "source": [
    "# create a tuple with different data types\n",
    "\n",
    "tuple = (\"apple\",10,\"banana\",10.20)\n",
    "\n",
    "print(tuple)"
   ]
  },
  {
   "cell_type": "code",
   "execution_count": null,
   "metadata": {},
   "outputs": [],
   "source": [
    "#  tuple of numbers and print one item\n",
    "\n",
    "tuple = (10, 20, 30, 40)\n",
    "\n",
    "print(tuple[1])"
   ]
  },
  {
   "cell_type": "code",
   "execution_count": null,
   "metadata": {},
   "outputs": [],
   "source": [
    "# unpack a tuple into several variables\n",
    "\n",
    "tuplex = 4, 8, 3\n",
    "\n",
    "print(tuplex)\n",
    "\n",
    "n1, n2, n3 = tuplex\n",
    "\n",
    "print(n1 + n2 + n3)\n",
    "\n",
    "\n"
   ]
  },
  {
   "cell_type": "code",
   "execution_count": null,
   "metadata": {},
   "outputs": [],
   "source": [
    "\n",
    "# add item into tuple\n",
    "\n",
    "tuplex = (4, 6, 2, 8, 3, 1)\n",
    "\n",
    "print(tuplex)\n",
    "\n",
    "tuplex = tuplex + (9,)\n",
    "\n",
    "print(tuplex)\n",
    "\n",
    "tuplex = tuplex[:-4] + (15, 20, 25) + tuplex[:5]\n",
    "\n",
    "print(tuplex)\n",
    "\n",
    "listx = list(tuplex)\n",
    "\n",
    "listx.append(30)\n",
    "\n",
    "tuplex = tuple(listx)\n",
    "\n",
    "print(tuplex) \n"
   ]
  },
  {
   "cell_type": "code",
   "execution_count": null,
   "metadata": {},
   "outputs": [],
   "source": [
    "# convert into string\n",
    "\n",
    "tuple = ('e', 'x', 'e', 'r', 'c', 'i', 's', 'e', 's')\n",
    "\n",
    "str = ''.join(tuple)\n",
    "\n",
    "print(str)\n"
   ]
  },
  {
   "cell_type": "code",
   "execution_count": null,
   "metadata": {},
   "outputs": [],
   "source": [
    "# 4th element and 4th element from last\n",
    "\n",
    "tuple1 = (\"w\",\"3\",\"r\",\"e\",\"s\",\"o\",\"u\",\"r\",\"c\",\"e\")\n",
    "\n",
    "print(tuple1[3])\n",
    "\n",
    "print(tuple1[-4])"
   ]
  },
  {
   "cell_type": "code",
   "execution_count": null,
   "metadata": {},
   "outputs": [],
   "source": [
    "# create colon of tuple\n",
    "\n",
    "tuple1 = (\"apple\",[],10,11.8) \n",
    "\n",
    "tuple1[1] .append(20)\n",
    "\n",
    "print(tuple1)\n"
   ]
  },
  {
   "cell_type": "code",
   "execution_count": null,
   "metadata": {},
   "outputs": [],
   "source": [
    "# find repeated items in a tuple\n",
    "\n",
    "tuple1 = (1,3,5,7,3,9,3)\n",
    "\n",
    "count = tuple1.count(5)\n",
    "\n",
    "print(count)"
   ]
  },
  {
   "cell_type": "code",
   "execution_count": null,
   "metadata": {},
   "outputs": [],
   "source": [
    "# check if an item exists in a tuple\n",
    "\n",
    "tuple1 = (0, 1, 2, 3, 4, 5)\n",
    "\n",
    "print(1 in tuple1)\n",
    "\n",
    "print(\"apple\"in tuple1)"
   ]
  },
  {
   "cell_type": "code",
   "execution_count": null,
   "metadata": {},
   "outputs": [],
   "source": [
    "# list convert into tuple\n",
    "\n",
    "list1 = [10, 20, 30, 20, 10, 50]\n",
    "\n",
    "tuple1 = tuple(list1)\n",
    "\n",
    "print(tuple1)\n"
   ]
  },
  {
   "cell_type": "code",
   "execution_count": null,
   "metadata": {},
   "outputs": [],
   "source": [
    "# remove item from tuple\n",
    "\n",
    "tuple1 = (10,30,50,70)\n",
    "\n",
    "sample_list = list(tuple1)\n",
    "\n",
    "sample_list.remove(30)\n",
    "\n",
    "tuple1 = tuple(sample_list)\n",
    "print(tuple1)  \n"
   ]
  },
  {
   "cell_type": "code",
   "execution_count": null,
   "metadata": {},
   "outputs": [],
   "source": [
    "# slice a tuple\n",
    "\n",
    "tuple1 = (10, 20, 30, 40, 50, 60)\n",
    "\n",
    "slice1 = tuple1[2:5]\n",
    "\n",
    "print(slice1)\n",
    "\n",
    "slice1 = tuple1[:4]\n",
    "\n",
    "print(slice1)\n",
    "\n",
    "slice1 = tuple1[3:]\n",
    "\n",
    "print(slice1)\n",
    "\n",
    "slice1 = tuple1[:-1]\n",
    "\n",
    "print(slice1)\n",
    "\n",
    "slice1 = tuple1[::2]\n",
    "\n",
    "print(slice1)\n",
    "\n",
    "slice1 = tuple1[::-1] # reverce\n",
    "\n",
    "print(slice1)\n",
    "\n",
    "slice1 = tuple1[-4:-1]\n",
    "\n",
    "print(slice1)"
   ]
  },
  {
   "cell_type": "code",
   "execution_count": null,
   "metadata": {},
   "outputs": [],
   "source": [
    "# find index of an item\n",
    "\n",
    "# tuple1 = (\"apple\", \"banana\", \"cherry\")\n",
    "\n",
    "# tuplex = tuple1.index(\"banana\")\n",
    "\n",
    "# print(tuplex)\n",
    "\n",
    "tuple1 = (\"w\",\"3\",\"r\",\"e\",\"s\",\"o\",\"u\",\"r\",\"c\",\"e\")\n",
    "\n",
    "print(tuple1.index(\"e\",1,6))\n",
    "\n"
   ]
  },
  {
   "cell_type": "code",
   "execution_count": null,
   "metadata": {},
   "outputs": [],
   "source": [
    "# length of a tuple\n",
    "\n",
    "tuple1 = (0, 1, 2, 3, 4, 5)\n",
    "\n",
    "print(len(tuple1))"
   ]
  },
  {
   "cell_type": "code",
   "execution_count": null,
   "metadata": {},
   "outputs": [],
   "source": [
    "# tuple to dictionary\n",
    "\n",
    "list_of_tuple = [ (\"x\", 3), (\"y\", 1), (\"z\", 1)]\n",
    "\n",
    "dict = {}\n",
    "\n",
    "for i in list_of_tuple:\n",
    "    if i in dict:\n",
    "        dict[i[0]].append(i[1])\n",
    "    else:\n",
    "        dict[i[0]] = [i[1]]\n",
    "        \n",
    "print(dict)\n",
    "\n",
    "\n"
   ]
  },
  {
   "cell_type": "code",
   "execution_count": 5,
   "metadata": {},
   "outputs": [
    {
     "name": "stdout",
     "output_type": "stream",
     "text": [
      "This is tuple :  (100, 200, 300)\n"
     ]
    }
   ],
   "source": [
    "# print a tuple \n",
    " \n",
    "tuple = (100, 200, 300)\n",
    "\n",
    "print(\"This is tuple : \", tuple) "
   ]
  },
  {
   "cell_type": "code",
   "execution_count": null,
   "metadata": {},
   "outputs": [],
   "source": [
    "# add item into tuple \n",
    " \n",
    "list = [(10, 20, 40), (40, 50, 60), (70, 80, 90)]\n",
    "\n",
    "\n",
    "print([tuple[:-1] + (100,) for tuple in list]) \n"
   ]
  },
  {
   "cell_type": "code",
   "execution_count": 7,
   "metadata": {},
   "outputs": [
    {
     "name": "stdout",
     "output_type": "stream",
     "text": [
      "Sum of elements: [6, 15, 24]\n"
     ]
    }
   ],
   "source": [
    "# sum of elements in a tuple\n",
    "\n",
    "list_of_tuples = [(1, 2, 3), (4, 5, 6), (7, 8, 9)]\n",
    "sums = []\n",
    "for tup in list_of_tuples:\n",
    "    sums.append(sum(tup))\n",
    "\n",
    "print(\"Sum of elements:\", sums)\n"
   ]
  },
  {
   "cell_type": "code",
   "execution_count": 4,
   "metadata": {},
   "outputs": [
    {
     "name": "stdout",
     "output_type": "stream",
     "text": [
      "[[1, 2], [3, 4], [5, 6]]\n"
     ]
    }
   ],
   "source": [
    "# convert tuple into list\n",
    "\n",
    "tuple_list = [(1, 2), (3, 4), (5, 6)]\n",
    "\n",
    "list_of_lists = []\n",
    "\n",
    "for i in tuple_list:\n",
    "    list_of_lists.append(list(i))\n",
    "\n",
    "print(list_of_lists)"
   ]
  },
  {
   "cell_type": "code",
   "execution_count": 6,
   "metadata": {},
   "outputs": [
    {
     "name": "stdout",
     "output_type": "stream",
     "text": [
      "[(1, 3, 8), (2, 4, 9)]\n"
     ]
    }
   ],
   "source": [
    "# Unzip a list of tuples into individual lists\n",
    "\n",
    "l = [(1, 2), (3, 4), (8, 9)]\n",
    "\n",
    "result = list(zip(*l))\n",
    "\n",
    "print(result)\n"
   ]
  },
  {
   "cell_type": "code",
   "execution_count": null,
   "metadata": {},
   "outputs": [],
   "source": []
  }
 ],
 "metadata": {
  "kernelspec": {
   "display_name": "Python 3",
   "language": "python",
   "name": "python3"
  },
  "language_info": {
   "codemirror_mode": {
    "name": "ipython",
    "version": 3
   },
   "file_extension": ".py",
   "mimetype": "text/x-python",
   "name": "python",
   "nbconvert_exporter": "python",
   "pygments_lexer": "ipython3",
   "version": "3.12.2"
  }
 },
 "nbformat": 4,
 "nbformat_minor": 2
}
