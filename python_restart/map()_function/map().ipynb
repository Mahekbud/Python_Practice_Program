{
 "cells": [
  {
   "cell_type": "code",
   "execution_count": null,
   "metadata": {},
   "outputs": [],
   "source": [
    "# Python program to demonstrate working of map\n",
    "\n",
    "def addition(n):\n",
    "    return n + n\n",
    " \n",
    "numbers = (1, 2, 3, 4)\n",
    "result = map(addition, numbers)\n",
    "print(list(result))"
   ]
  },
  {
   "cell_type": "code",
   "execution_count": null,
   "metadata": {},
   "outputs": [],
   "source": [
    "# list to strings\n",
    "\n",
    "l = ['sat', 'bat', 'cat', 'mat']\n",
    " \n",
    "test = list(map(list, l))\n",
    "print(test)"
   ]
  },
  {
   "cell_type": "code",
   "execution_count": null,
   "metadata": {},
   "outputs": [],
   "source": [
    "# Define a function that doubles even numbers and leaves odd numbers as is\n",
    "\n",
    "def double_even(num):\n",
    "\tif num % 2 == 0:\n",
    "\t\treturn num * 2\n",
    "\telse:\n",
    "\t\treturn num\n",
    "\n",
    "numbers = [1, 2, 3, 4, 5]\n",
    "\n",
    "result = list(map(double_even, numbers))\n",
    "\n",
    "print(result) \n"
   ]
  },
  {
   "cell_type": "code",
   "execution_count": 8,
   "metadata": {},
   "outputs": [
    {
     "name": "stdout",
     "output_type": "stream",
     "text": [
      "{1, 2, 4, 5, 36, 7, 8, 9, 81}\n"
     ]
    }
   ],
   "source": [
    "# Define a function that squares numbers that are divisible by 3\n",
    "\n",
    "def square(num):\n",
    "    if num % 3 == 0:\n",
    "        return num ** 2\n",
    "    else:\n",
    "        return num\n",
    "    \n",
    "numbers = [1, 2, 3, 4, 5, 6, 7, 8, 9]\n",
    "\n",
    "result = set(map(square, numbers))\n",
    "\n",
    "print(result)\n"
   ]
  },
  {
   "cell_type": "code",
   "execution_count": 3,
   "metadata": {},
   "outputs": [
    {
     "name": "stdout",
     "output_type": "stream",
     "text": [
      "[5, 6, 6]\n"
     ]
    }
   ],
   "source": [
    "# length of strings\n",
    "\n",
    "def myfunc(num):\n",
    "  return len(num)\n",
    "\n",
    "x = map(myfunc, ('apple', 'banana', 'cherry'))\n",
    "\n",
    "print(list(x))"
   ]
  },
  {
   "cell_type": "code",
   "execution_count": 4,
   "metadata": {},
   "outputs": [
    {
     "name": "stdout",
     "output_type": "stream",
     "text": [
      "[5, 7, 9]\n"
     ]
    }
   ],
   "source": [
    "# add two lists using map \n",
    "\n",
    "def myfunc(a, b):\n",
    "  return a + b\n",
    "\n",
    "list1 = [1, 2, 3]\n",
    "list2 = [4, 5, 6]\n",
    "x = map(myfunc, list1, list2)\n",
    "\n",
    "print(list(x))\n"
   ]
  },
  {
   "cell_type": "code",
   "execution_count": 1,
   "metadata": {},
   "outputs": [
    {
     "name": "stdout",
     "output_type": "stream",
     "text": [
      "[True, True, False, True, False, False, True]\n"
     ]
    }
   ],
   "source": [
    "# using lambda function in map function\n",
    "\n",
    "list1 = [7,12,4,15,3,2,8]\n",
    "list2 = list(map(lambda x: (x > 5) , list1))\n",
    "print(list2)"
   ]
  },
  {
   "cell_type": "code",
   "execution_count": 5,
   "metadata": {},
   "outputs": [
    {
     "name": "stdout",
     "output_type": "stream",
     "text": [
      "[4, 8, 12, 16, 6, 10]\n"
     ]
    }
   ],
   "source": [
    "# use map function with also a calculation expression.\n",
    "\n",
    "list1 = [2,4,6,8,3,5]\n",
    "list2 = list(map(lambda x: x * 2  , list1))\n",
    "print(list2)\n",
    "\n"
   ]
  }
 ],
 "metadata": {
  "kernelspec": {
   "display_name": "Python 3",
   "language": "python",
   "name": "python3"
  },
  "language_info": {
   "codemirror_mode": {
    "name": "ipython",
    "version": 3
   },
   "file_extension": ".py",
   "mimetype": "text/x-python",
   "name": "python",
   "nbconvert_exporter": "python",
   "pygments_lexer": "ipython3",
   "version": "3.12.2"
  }
 },
 "nbformat": 4,
 "nbformat_minor": 2
}
