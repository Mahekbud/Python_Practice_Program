{
 "cells": [
  {
   "cell_type": "code",
   "execution_count": null,
   "metadata": {},
   "outputs": [],
   "source": [
    "# count the number of each character in the string\n",
    "str = \"google.com\"\n",
    "\n",
    "dict = {}\n",
    "\n",
    "for i in str:\n",
    "    if i in dict:\n",
    "        dict[i] += 1\n",
    "    else:\n",
    "        dict[i] = 1\n",
    "print(dict)"
   ]
  },
  {
   "cell_type": "code",
   "execution_count": null,
   "metadata": {},
   "outputs": [],
   "source": [
    "# length of string\n",
    "\n",
    "str = \"mahek\"\n",
    "\n",
    "text = len(str)\n",
    "\n",
    "print(text)"
   ]
  },
  {
   "cell_type": "code",
   "execution_count": null,
   "metadata": {},
   "outputs": [],
   "source": [
    "# string made of the first 2 and last 2 characters of a given string\n",
    "\n",
    "\n",
    "sample_strings = ['w3resource', 'w3', ' w']\n",
    "\n",
    "for string in sample_strings:\n",
    "    if len(string) < 2:\n",
    "        result = \"\"\n",
    "    else:\n",
    "        result = string[:2] + string[-2:]\n",
    "    print(f\"Sample String: '{string}' => Expected Result: '{result}'\")"
   ]
  },
  {
   "cell_type": "code",
   "execution_count": null,
   "metadata": {},
   "outputs": [],
   "source": [
    "# single string from two given strings, separated by a space and swap the first two characters of each string.\n",
    "\n",
    "\n",
    "str2 = \"abc\"\n",
    "str1 = \"xyz\"\n",
    "\n",
    "\n",
    "first = str2[:2] + str1[2:]\n",
    "second = str1[:2] + str2[2:]\n",
    "\n",
    "print(first)\n",
    "print(second)"
   ]
  },
  {
   "cell_type": "code",
   "execution_count": null,
   "metadata": {},
   "outputs": [],
   "source": [
    "# replace the first character of the string with $ symbol\n",
    "\n",
    "\n",
    "def change_char(str1):\n",
    "  \n",
    "    char = str1[0]\n",
    "  \n",
    "    str1 = str1.replace(char, '$')\n",
    "\n",
    "    str1 = char + str1[1:]\n",
    "\n",
    "  \n",
    "    return str1\n",
    "\n",
    "\n",
    "print(change_char('restart'))  \n"
   ]
  },
  {
   "cell_type": "code",
   "execution_count": null,
   "metadata": {},
   "outputs": [],
   "source": [
    "# Add 'ing' at the end of a given string (length should be at least 3). If the given string already ends with 'ing' then add 'ly' instead.\n",
    "\n",
    "def add_string(str1):\n",
    "  length = len(str1)\n",
    "\n",
    "  if length > 2:\n",
    "    if str1[-3:] == 'ing':\n",
    "      str1 += 'ly'\n",
    "    else:\n",
    "      str1 += 'ing'\n",
    "\n",
    "  return str1\n",
    "print(add_string('abc'))\n",
    "print(add_string('string'))"
   ]
  },
  {
   "cell_type": "code",
   "execution_count": null,
   "metadata": {},
   "outputs": [],
   "source": [
    "# first appearance of the substrings 'not' and 'poor' in a given string. \n",
    "\n",
    "\n",
    "def substring(str1):\n",
    "    if 'not' in str1 and 'poor' in str1:\n",
    "        return \"The lyrics is good!\"\n",
    "    else:\n",
    "        return str1\n",
    "\n",
    "print(substring('The lyrics is not that poor!'))  \n",
    "print(substring('The lyrics is poor!'))         \n"
   ]
  },
  {
   "cell_type": "code",
   "execution_count": null,
   "metadata": {},
   "outputs": [],
   "source": [
    "# longest word in a string\n",
    "\n",
    "def longest_word(words):\n",
    "    longest = \"\"\n",
    "    max_length = 0\n",
    "    for word in words:\n",
    "        if len(word) > max_length:\n",
    "            longest = word\n",
    "            max_length = len(word)\n",
    "    return longest, max_length\n",
    "\n",
    "\n",
    "word_list = [\"PHP\", \"Exercises\", \"Backend\"]\n",
    "longest, length = longest_word(word_list)\n",
    "print(\"Longest word:\", longest)\n",
    "print(\"Length of longest word:\", length)\n"
   ]
  },
  {
   "cell_type": "code",
   "execution_count": null,
   "metadata": {},
   "outputs": [],
   "source": [
    "# remove the nth index character\n",
    "\n",
    "def remove(str, n): \n",
    "    first_part = str[:n]\n",
    "    last_part = str[n+1:]\n",
    "    return first_part + last_part\n",
    "print(remove('python', 1))\n",
    "print(remove('python', 0))\n",
    "      \n",
    " "
   ]
  },
  {
   "cell_type": "code",
   "execution_count": null,
   "metadata": {},
   "outputs": [],
   "source": [
    "# first and last characters swapped in a string\n",
    "\n",
    "def swap_string(string):\n",
    "    return string[-1] + string[1:-1] + string[:1]\n",
    "    \n",
    "print(swap_string('Mahek'))\n",
    "\n",
    "    "
   ]
  },
  {
   "cell_type": "code",
   "execution_count": null,
   "metadata": {},
   "outputs": [],
   "source": [
    "# remove odd index characters\n",
    "\n",
    "def remove_odd_index(string):\n",
    "    return string[::2]\n",
    "print(remove_odd_index('Mahek'))"
   ]
  },
  {
   "cell_type": "code",
   "execution_count": null,
   "metadata": {},
   "outputs": [],
   "source": [
    "# count number of words in a string\n",
    "\n",
    "\n",
    "def word_count(str):\n",
    "   \n",
    "    counts = {}\n",
    "    \n",
    "    words = str.split()\n",
    "\n",
    "    for word in words:\n",
    "        \n",
    "        if word in counts:\n",
    "            \n",
    "            counts[word] += 1\n",
    "        else:\n",
    "            \n",
    "            counts[word] = 1\n",
    "\n",
    "    return counts\n",
    "\n",
    "print( word_count('the quick brown fox jumps over the lazy dog.'))"
   ]
  },
  {
   "cell_type": "code",
   "execution_count": null,
   "metadata": {},
   "outputs": [],
   "source": [
    "# convert string in lowercase and uppercase\n",
    "\n",
    "str = input(\"Enter String :\")\n",
    "\n",
    "print(str.lower())\n",
    "\n",
    "print(str.upper())\n"
   ]
  },
  {
   "cell_type": "code",
   "execution_count": null,
   "metadata": {},
   "outputs": [],
   "source": [
    "#  items set in a alphabetical order without duplicates\n",
    "\n",
    "items = input(\"Input comma-separated sequence of words\")\n",
    "\n",
    "words = [word for word in items.split(\",\")]\n",
    "\n",
    "print(\",\".join(sorted(list(set(words)))))\n"
   ]
  },
  {
   "cell_type": "code",
   "execution_count": null,
   "metadata": {},
   "outputs": [],
   "source": [
    "\n",
    "# html string with tag and word to add tags\n",
    "\n",
    "def add_tags(tag, word):\n",
    "    \n",
    "    return \"<%s>%s</%s>\" % (tag, word, tag)\n",
    "\n",
    "\n",
    "print(add_tags('i', 'Python'))\n",
    "\n",
    "\n",
    "print(add_tags('b', 'Python Tutorial'))\n"
   ]
  },
  {
   "cell_type": "code",
   "execution_count": null,
   "metadata": {},
   "outputs": [],
   "source": [
    "\n",
    "# middle character of string\n",
    "\n",
    "def string_middle(str, word):\n",
    "   \n",
    "    return str[:2] + word + str[2:]\n",
    "\n",
    "print(string_middle('[[]]', 'Python'))  \n",
    "print(string_middle('{{}}', 'PHP'))    \n",
    "print(string_middle('<<>>', 'HTML')) \n",
    "print(string_middle('(())', 'Java'))   \n"
   ]
  },
  {
   "cell_type": "code",
   "execution_count": null,
   "metadata": {},
   "outputs": [],
   "source": [
    "# string made of 4 copies of the last two characters of a specified string\n",
    "\n",
    "str = \"Mahek\"\n",
    "\n",
    "print(str[3:]*4)\n",
    "\n",
    "str1 = \"python\"\n",
    "\n",
    "print(str1[4:]*4)\n",
    "\n"
   ]
  },
  {
   "cell_type": "code",
   "execution_count": null,
   "metadata": {},
   "outputs": [],
   "source": [
    "\n",
    "# string made of the first three characters of a specified string\n",
    "\n",
    "def first_three(str):\n",
    "    if len(str) > 4: \n",
    "        return str[:3]\n",
    "    else:\n",
    "        return str\n",
    "print(first_three('ipy'))      \n",
    "print(first_three('python'))   \n",
    "print(first_three('py'))      \n"
   ]
  },
  {
   "cell_type": "code",
   "execution_count": null,
   "metadata": {},
   "outputs": [],
   "source": [
    "# reverse a string\n",
    "\n",
    "str = \"Ruby\"\n",
    "\n",
    "print(str[::-1])\n"
   ]
  },
  {
   "cell_type": "code",
   "execution_count": null,
   "metadata": {},
   "outputs": [],
   "source": [
    "# convert string in uppercase and lowercase\n",
    "\n",
    "def upper_lower(str):\n",
    "    upper1 = 0\n",
    "    \n",
    "    for i in str[:4]:\n",
    "        if i.upper() == i:\n",
    "            upper1 += 1\n",
    "      \n",
    "    if upper1 >= 2:\n",
    "        return str.upper()\n",
    "        \n",
    "    return str\n",
    "    \n",
    "print(upper_lower(\"Mahek\"))\n",
    "   \n",
    "print(upper_lower(\"mahek\"))\n",
    "\n",
    "\n",
    "def to_uppercase(str1):\n",
    "    \n",
    "    num_upper = 0\n",
    "\n",
    "    for letter in str1[:4]:\n",
    "\n",
    "        if letter.upper() == letter:\n",
    "           \n",
    "            num_upper += 1\n",
    "\n",
    "    if num_upper >= 2:\n",
    "       \n",
    "        return str1.upper()\n",
    "    \n",
    "    return str1\n",
    "\n",
    "print(to_uppercase('Python')) \n",
    "print(to_uppercase('PyThon'))   \n"
   ]
  },
  {
   "cell_type": "code",
   "execution_count": null,
   "metadata": {},
   "outputs": [],
   "source": [
    "# string starts with a specified word\n",
    "\n",
    "string = \"w3resource.com\"\n",
    "\n",
    "print(string.startswith(\"w3r\"))\n"
   ]
  },
  {
   "cell_type": "code",
   "execution_count": null,
   "metadata": {},
   "outputs": [],
   "source": [
    "# integers with zeros on the left of specified width\n",
    "\n",
    "x = 3\n",
    "print(str(x).zfill(2))\n",
    "print(\"Formatted Number : \"+\"{:0>2d}\".format(x))\n",
    "print(f\"{x:0{4}d}\")\n"
   ]
  },
  {
   "cell_type": "code",
   "execution_count": null,
   "metadata": {},
   "outputs": [],
   "source": [
    "# reverse word in a string\n",
    "\n",
    "str1 = \"mahek is a good girl\"\n",
    "\n",
    "for line in str1.split('\\n'):\n",
    "    print(' '.join(line.split()[::-1]))\n"
   ]
  },
  {
   "cell_type": "code",
   "execution_count": 20,
   "metadata": {},
   "outputs": [
    {
     "name": "stdout",
     "output_type": "stream",
     "text": [
      "'t' appears 2 times.\n",
      "'h' appears 2 times.\n",
      "'e' appears 3 times.\n",
      "'u' appears 2 times.\n",
      "'r' appears 2 times.\n",
      "'o' appears 4 times.\n"
     ]
    }
   ],
   "source": [
    "# count number of characters in a string\n",
    "\n",
    "str1 = 'thequickbrownfoxjumpsoverthelazydog'\n",
    "\n",
    "char_count = {}\n",
    "\n",
    "for i in str1:\n",
    "    if i in char_count: \n",
    "        char_count[i] += 1\n",
    "    else:\n",
    "        char_count[i] = 1\n",
    "        \n",
    "for i in char_count:\n",
    "    if char_count[i] > 1:\n",
    "        print(f\"'{i}' appears {char_count[i]} times.\")\n",
    "    \n",
    "\n"
   ]
  },
  {
   "cell_type": "code",
   "execution_count": 34,
   "metadata": {},
   "outputs": [
    {
     "name": "stdout",
     "output_type": "stream",
     "text": [
      "32,023|78\n"
     ]
    }
   ],
   "source": [
    "# swap dot with comma\n",
    "\n",
    "sample_string = \"32.023,78\"\n",
    "\n",
    "temp_string = sample_string.replace(',', '|')\n",
    "\n",
    "swapped_string = temp_string.replace('.', ',')\n",
    "\n",
    "final_string = swapped_string.replace('|', '.')\n",
    "\n",
    "print(swapped_string)\n",
    "\n",
    "\n",
    "\n",
    "\n"
   ]
  },
  {
   "cell_type": "code",
   "execution_count": null,
   "metadata": {},
   "outputs": [],
   "source": []
  }
 ],
 "metadata": {
  "kernelspec": {
   "display_name": "Python 3",
   "language": "python",
   "name": "python3"
  },
  "language_info": {
   "codemirror_mode": {
    "name": "ipython",
    "version": 3
   },
   "file_extension": ".py",
   "mimetype": "text/x-python",
   "name": "python",
   "nbconvert_exporter": "python",
   "pygments_lexer": "ipython3",
   "version": "3.12.2"
  }
 },
 "nbformat": 4,
 "nbformat_minor": 2
}
