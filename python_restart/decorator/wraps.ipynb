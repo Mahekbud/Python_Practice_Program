{
 "cells": [
  {
   "cell_type": "code",
   "execution_count": 11,
   "metadata": {},
   "outputs": [
    {
     "name": "stdout",
     "output_type": "stream",
     "text": [
      "hello world\n",
      "print_messsage\n",
      "this doc string\n"
     ]
    }
   ],
   "source": [
    "def print_messsage():\n",
    "    \"\"\"this doc string\"\"\"\n",
    "    print(\"hello world\")\n",
    "\n",
    "print_messsage()\n",
    "\n",
    "print(print_messsage.__name__)\n",
    "print(print_messsage.__doc__)"
   ]
  },
  {
   "cell_type": "code",
   "execution_count": 20,
   "metadata": {},
   "outputs": [
    {
     "name": "stdout",
     "output_type": "stream",
     "text": [
      "before function\n",
      "mahek\n",
      "after function\n",
      "percent\n",
      "this doc string\n"
     ]
    }
   ],
   "source": [
    "import functools\n",
    "\n",
    "def star(func):\n",
    "    @functools.wraps(func)\n",
    "\n",
    "    def inner(*args,**kwargs):\n",
    "        print(\"before function\")\n",
    "        func(*args,**kwargs)\n",
    "        print(\"after function\")\n",
    "    return inner\n",
    "\n",
    "@star\n",
    "def percent(msg):\n",
    "    \"\"\"This doc string\"\"\"\n",
    "    print(msg)\n",
    "    \n",
    "percent(\"mahek\")\n",
    "\n",
    "print(percent.__name__)\n",
    "print(percent.__doc__)"
   ]
  },
  {
   "cell_type": "code",
   "execution_count": 24,
   "metadata": {},
   "outputs": [
    {
     "name": "stdout",
     "output_type": "stream",
     "text": [
      "before sum function\n",
      "6\n",
      "after sum function\n",
      "sum\n",
      "This is sum function\n"
     ]
    }
   ],
   "source": [
    "import functools\n",
    "\n",
    "def smart(func):\n",
    "    @functools.wraps(func)\n",
    "    \n",
    "    def inner(*args,**kwargs):\n",
    "        print(\"before sum function\")\n",
    "        func(*args,**kwargs)\n",
    "        print(\"after sum function\")\n",
    "    return inner\n",
    "\n",
    "@smart\n",
    "def sum(a,b):\n",
    "    \"\"\"This is sum function\"\"\"\n",
    "    print (a+b)\n",
    "    \n",
    "sum(2,4)\n",
    "    \n",
    "print(sum.__name__)\n",
    "print(sum.__doc__)\n",
    "\n",
    "    "
   ]
  },
  {
   "cell_type": "code",
   "execution_count": 39,
   "metadata": {},
   "outputs": [
    {
     "name": "stdout",
     "output_type": "stream",
     "text": [
      "before Execution\n",
      "Inside the function\n",
      "after Execution\n",
      "Sum = 6\n"
     ]
    }
   ],
   "source": [
    "def hello_decorator(func):\n",
    "    def inner1(*args, **kwargs):\n",
    "         \n",
    "        print(\"before Execution\")\n",
    "        returned_value = func(*args, **kwargs)\n",
    "        print(\"after Execution\")\n",
    "         \n",
    "     \n",
    "        return returned_value\n",
    "         \n",
    "    return inner1\n",
    " \n",
    "\n",
    "@hello_decorator\n",
    "def sum_two_numbers(a, b):\n",
    "    print(\"Inside the function\")\n",
    "    return a + b\n",
    " \n",
    "# # a, b = 1, 2\n",
    "# sum_two_numbers(2,3) \n",
    "\n",
    "print(\"Sum =\", sum_two_numbers(2,4))"
   ]
  },
  {
   "cell_type": "code",
   "execution_count": 21,
   "metadata": {},
   "outputs": [
    {
     "name": "stdout",
     "output_type": "stream",
     "text": [
      "0.3333333333333333\n",
      "cannot divide\n"
     ]
    }
   ],
   "source": [
    "def decorator(fxn):\n",
    "    def modify(a,b):\n",
    "        print(\"before division\")\n",
    "        if b==0:\n",
    "            print(\"cannot divide\")\n",
    "            return \n",
    "        fxn(a,b)\n",
    "            \n",
    "    return modify\n",
    "\n",
    "@decorator\n",
    "def division(a,b):\n",
    "    print(a/b)\n",
    "    \n",
    "division(2,6)\n",
    "\n",
    "division(2,0)\n"
   ]
  },
  {
   "cell_type": "code",
   "execution_count": 1,
   "metadata": {},
   "outputs": [
    {
     "name": "stdout",
     "output_type": "stream",
     "text": [
      "welcome usernameand password\n",
      "usernot found\n"
     ]
    }
   ],
   "source": [
    "def decorator(func):\n",
    "    def modify(username,password):\n",
    "        print(\"welcome usernameand password\")\n",
    "        if ((password == \"mahek123\") & (username == \"mahek\")):\n",
    "            print(\"usernot found\")\n",
    "            return\n",
    "        func(username,password)\n",
    "        \n",
    "    return modify\n",
    "\n",
    "@decorator\n",
    "def name(username,password):\n",
    "    print(\"name\")\n",
    "    \n",
    "    \n",
    "username = \"mahek\"\n",
    "password = \"mahek123\"\n",
    "\n",
    "name(username,password)"
   ]
  },
  {
   "cell_type": "code",
   "execution_count": 36,
   "metadata": {},
   "outputs": [
    {
     "name": "stdout",
     "output_type": "stream",
     "text": [
      "##########\n",
      "@@@@@@@@@@\n",
      "hello world\n",
      "@@@@@@@@@@\n",
      "##########\n"
     ]
    }
   ],
   "source": [
    "def decorator(func):\n",
    "    def modify(*args,**kwrgs):\n",
    "        print(\"@\"*10)\n",
    "        func(*args,**kwrgs)\n",
    "        print(\"@\"*10)\n",
    "    return modify\n",
    "\n",
    "def decorator1(func1):\n",
    "    def modify1(*args,**kwrgs):\n",
    "        print(\"#\"*10)\n",
    "        func1(*args,**kwrgs)\n",
    "        print(\"#\"*10)\n",
    "        \n",
    "    return modify1\n",
    "\n",
    "@decorator1\n",
    "@decorator\n",
    "def mahek(massage):\n",
    "    print(massage)\n",
    "    \n",
    "mahek(\"hello world\")"
   ]
  }
 ],
 "metadata": {
  "kernelspec": {
   "display_name": ".venv",
   "language": "python",
   "name": "python3"
  },
  "language_info": {
   "codemirror_mode": {
    "name": "ipython",
    "version": 3
   },
   "file_extension": ".py",
   "mimetype": "text/x-python",
   "name": "python",
   "nbconvert_exporter": "python",
   "pygments_lexer": "ipython3",
   "version": "3.11.8"
  }
 },
 "nbformat": 4,
 "nbformat_minor": 2
}
