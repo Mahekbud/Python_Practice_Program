{
 "cells": [
  {
   "cell_type": "code",
   "execution_count": 1,
   "metadata": {},
   "outputs": [
    {
     "name": "stdout",
     "output_type": "stream",
     "text": [
      "5\n",
      "15\n",
      "30\n"
     ]
    }
   ],
   "source": [
    "# method overloading in python\n",
    "\n",
    "class MathOperations:\n",
    "\tdef add(self, a, b=None, c=None):\n",
    "\t\tif b is not None and c is not None:\n",
    "\t\t\treturn a + b + c\n",
    "\t\telif b is not None:\n",
    "\t\t\treturn a + b\n",
    "\t\telse:\n",
    "\t\t\treturn a\n",
    "\n",
    "math_obj = MathOperations()\n",
    "result1 = math_obj.add(5)\n",
    "result2 = math_obj.add(5, 10)\n",
    "result3 = math_obj.add(5, 10, 15)\n",
    "\n",
    "print(result1)\n",
    "print(result2)\n",
    "print(result3)\n"
   ]
  },
  {
   "cell_type": "code",
   "execution_count": 2,
   "metadata": {},
   "outputs": [
    {
     "name": "stdout",
     "output_type": "stream",
     "text": [
      "Sum of three numbers 6\n"
     ]
    }
   ],
   "source": [
    "# method overloading\n",
    "\n",
    "class MyClass:    \n",
    "    def sum_nums(self, x, y):\n",
    "        print(\"Sum of two numbers\", x + y)\n",
    "    def sum_nums(self, x, y, z):\n",
    "        print(\"Sum of three numbers\", x + y + z)\n",
    "obj = MyClass()\n",
    "obj.sum_nums(1, 2, 3)  \n"
   ]
  },
  {
   "cell_type": "code",
   "execution_count": 3,
   "metadata": {},
   "outputs": [
    {
     "name": "stdout",
     "output_type": "stream",
     "text": [
      "60\n",
      "30\n"
     ]
    }
   ],
   "source": [
    "# method overloading\n",
    "\n",
    "class Example:\n",
    "    def add(self, a, b, c=None):\n",
    "        if c is not None:\n",
    "            x = a + b + c\n",
    "        else:\n",
    "            x = a + b\n",
    "        return x\n",
    "\n",
    "obj = Example()\n",
    "\n",
    "print(obj.add(10, 20, 30))\n",
    "print(obj.add(10, 20))    \n"
   ]
  }
 ],
 "metadata": {
  "kernelspec": {
   "display_name": "Python 3",
   "language": "python",
   "name": "python3"
  },
  "language_info": {
   "codemirror_mode": {
    "name": "ipython",
    "version": 3
   },
   "file_extension": ".py",
   "mimetype": "text/x-python",
   "name": "python",
   "nbconvert_exporter": "python",
   "pygments_lexer": "ipython3",
   "version": "3.12.2"
  }
 },
 "nbformat": 4,
 "nbformat_minor": 2
}
