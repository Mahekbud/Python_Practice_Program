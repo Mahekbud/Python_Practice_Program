{
 "cells": [
  {
   "cell_type": "code",
   "execution_count": 1,
   "metadata": {},
   "outputs": [
    {
     "name": "stdout",
     "output_type": "stream",
     "text": [
      "Grade F\n"
     ]
    }
   ],
   "source": [
    "# grade system\n",
    "\n",
    "mark = int(input(\"Enter your mark : \"))\n",
    "\n",
    "if mark >= 90:\n",
    "    print(\"Grade A\")\n",
    "elif mark >= 80:\n",
    "    print(\"Grade B\")\n",
    "elif mark >= 70:\n",
    "    print(\"Grade C\")\n",
    "elif mark >= 60:\n",
    "    print(\"Grade D\")\n",
    "else:\n",
    "    print(\"Grade F\")"
   ]
  },
  {
   "cell_type": "code",
   "execution_count": 5,
   "metadata": {},
   "outputs": [
    {
     "name": "stdout",
     "output_type": "stream",
     "text": [
      "Tax :  5000.0\n"
     ]
    }
   ],
   "source": [
    "# income tax\n",
    "\n",
    "income = int(input(\"Enter income : \"))\n",
    "\n",
    "if income >= 100000:\n",
    "    tax = 0.2 * income\n",
    "elif income >= 50000:\n",
    "    tax = 0.1 * income\n",
    "else:\n",
    "    tax = 0\n",
    "\n",
    "print(\"Tax : \",tax)"
   ]
  },
  {
   "cell_type": "code",
   "execution_count": 14,
   "metadata": {},
   "outputs": [
    {
     "name": "stdout",
     "output_type": "stream",
     "text": [
      "Not leap year\n"
     ]
    }
   ],
   "source": [
    "# leap year or not \n",
    "\n",
    "year = int(input(\"Enter year : \"))\n",
    "\n",
    "if year % 4 == 0:\n",
    "    print(\"Leap year\")\n",
    "else:\n",
    "    print(\"Not leap year\")\n",
    "    \n",
    "\n",
    "    "
   ]
  },
  {
   "cell_type": "code",
   "execution_count": 17,
   "metadata": {},
   "outputs": [
    {
     "name": "stdout",
     "output_type": "stream",
     "text": [
      "Friday\n"
     ]
    }
   ],
   "source": [
    "# week days\n",
    "\n",
    "day = int(input(\"Enter day : \"))\n",
    "\n",
    "if day == 1:\n",
    "    print(\"Monday\")\n",
    "elif day == 2: \n",
    "    print(\"Tuesday\")\n",
    "elif day == 3:\n",
    "    print(\"Wednesday\")\n",
    "elif day == 4:\n",
    "    print(\"Thursday\")   \n",
    "elif day == 5:  \n",
    "    print(\"Friday\")\n",
    "elif day == 6:\n",
    "    print(\"Saturday\")\n",
    "elif day == 7:\n",
    "    print(\"Sunday\")\n",
    "else:\n",
    "    print(\"Invalid day\")"
   ]
  },
  {
   "cell_type": "code",
   "execution_count": 18,
   "metadata": {},
   "outputs": [
    {
     "name": "stdout",
     "output_type": "stream",
     "text": [
      "5 is a prime number\n"
     ]
    }
   ],
   "source": [
    "# prime number or not\n",
    "\n",
    "number = int(input(\"Enter number : \"))\n",
    "\n",
    "if number > 1:\n",
    "    for i in range(2, number):\n",
    "        if (number % i) == 0:\n",
    "            print(number, \"is not a prime number\")\n",
    "            break\n",
    "    else:\n",
    "        print(number, \"is a prime number\")"
   ]
  },
  {
   "cell_type": "code",
   "execution_count": 22,
   "metadata": {},
   "outputs": [
    {
     "name": "stdout",
     "output_type": "stream",
     "text": [
      "Upper case\n"
     ]
    }
   ],
   "source": [
    "# lower or upper\n",
    "\n",
    "text = input(\"Enter text : \")\n",
    "\n",
    "if text.isupper():\n",
    "    print(\"Upper case\")\n",
    "else:\n",
    "    print(\"Lower case\")"
   ]
  },
  {
   "cell_type": "code",
   "execution_count": 28,
   "metadata": {},
   "outputs": [
    {
     "name": "stdout",
     "output_type": "stream",
     "text": [
      "Invalid city\n"
     ]
    }
   ],
   "source": [
    "# city \n",
    "\n",
    "city = input(\"Enter city : \")\n",
    "\n",
    "if city.lower() == \"Delhi\":\n",
    "    print(\"Red fort\")\n",
    "    \n",
    "elif city.lower() == \"Agra\":\n",
    "    print(\"Taj mahal\")\n",
    "    \n",
    "elif city.lower() == \"Jaipur\":\n",
    "    print(\"Jal mahal\")\n",
    "    \n",
    "else:\n",
    "    print(\"Invalid city\")"
   ]
  },
  {
   "cell_type": "code",
   "execution_count": 29,
   "metadata": {},
   "outputs": [
    {
     "name": "stdout",
     "output_type": "stream",
     "text": [
      "Red fort\n"
     ]
    }
   ],
   "source": [
    "city = input(\"Enter city : \")\n",
    "\n",
    "if city.lower() == \"delhi\":\n",
    "    print(\"Red fort\")\n",
    "elif city.lower() == \"agra\":\n",
    "    print(\"Taj mahal\")\n",
    "elif city.lower() == \"jaipur\":\n",
    "    print(\"Jal mahal\")\n",
    "else:\n",
    "    print(\"Invalid city\")\n",
    "\n"
   ]
  },
  {
   "cell_type": "code",
   "execution_count": null,
   "metadata": {},
   "outputs": [],
   "source": []
  }
 ],
 "metadata": {
  "kernelspec": {
   "display_name": "Python 3",
   "language": "python",
   "name": "python3"
  },
  "language_info": {
   "codemirror_mode": {
    "name": "ipython",
    "version": 3
   },
   "file_extension": ".py",
   "mimetype": "text/x-python",
   "name": "python",
   "nbconvert_exporter": "python",
   "pygments_lexer": "ipython3",
   "version": "3.12.2"
  }
 },
 "nbformat": 4,
 "nbformat_minor": 2
}
