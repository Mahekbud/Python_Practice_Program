{
 "cells": [
  {
   "cell_type": "code",
   "execution_count": 16,
   "metadata": {},
   "outputs": [
    {
     "name": "stdout",
     "output_type": "stream",
     "text": [
      "MAHEK\n"
     ]
    }
   ],
   "source": [
    "# uppercase in lambda function\n",
    "\n",
    "str1 = \"Mahek\"\n",
    "\n",
    "upper = lambda x: x.upper()\n",
    "\n",
    "print(upper(str1))"
   ]
  },
  {
   "cell_type": "code",
   "execution_count": 17,
   "metadata": {},
   "outputs": [
    {
     "name": "stdout",
     "output_type": "stream",
     "text": [
      "27\n"
     ]
    }
   ],
   "source": [
    "# cube in lambda function\n",
    "\n",
    "def cube(x):\n",
    "    return x*x*x\n",
    "\n",
    "cube_lambda = lambda x: x*x*x\n",
    "\n",
    "print(cube_lambda(3))"
   ]
  },
  {
   "cell_type": "code",
   "execution_count": 18,
   "metadata": {},
   "outputs": [
    {
     "name": "stdout",
     "output_type": "stream",
     "text": [
      "[1, 3, 4, 7]\n"
     ]
    }
   ],
   "source": [
    "# use sorted in lambda function\n",
    "\n",
    "numbers = [3, 7, 1, 4]\n",
    "\n",
    "sorted_numbers = lambda x: (x%10, x)\n",
    "\n",
    "print(sorted(numbers))"
   ]
  },
  {
   "cell_type": "code",
   "execution_count": 10,
   "metadata": {},
   "outputs": [
    {
     "name": "stdout",
     "output_type": "stream",
     "text": [
      "[4, 6, 8, 12]\n",
      "[1, 5, 11, 3]\n"
     ]
    }
   ],
   "source": [
    "# program to filter out only the even and odd items from a list\n",
    "\n",
    "my_list = [1, 5, 4, 6, 8, 11, 3, 12]\n",
    "\n",
    "new_list = list(filter(lambda x: (x%2 == 0) , my_list))\n",
    "\n",
    "new_list2 = list(filter(lambda x: x%2 != 0, my_list))\n",
    "\n",
    "print(new_list)\n",
    "print(new_list2)"
   ]
  },
  {
   "cell_type": "code",
   "execution_count": 8,
   "metadata": {},
   "outputs": [
    {
     "name": "stdout",
     "output_type": "stream",
     "text": [
      "['geeg', 'keek', 'aa']\n"
     ]
    }
   ],
   "source": [
    "# Python Program to find palindromes in list of strings\n",
    "\n",
    "my_list = [\"geeks\", \"geeg\", \"keek\", \"practice\", \"aa\"] \n",
    "\n",
    "# my_list = list(filter(lambda x: (x == x[::-1]), my_list))\n",
    "\n",
    "my_list = list(filter(lambda x :''.join(reversed(x)) == x, my_list))\n",
    "\n",
    "print(my_list)"
   ]
  },
  {
   "cell_type": "code",
   "execution_count": null,
   "metadata": {},
   "outputs": [],
   "source": []
  }
 ],
 "metadata": {
  "kernelspec": {
   "display_name": "Python 3",
   "language": "python",
   "name": "python3"
  },
  "language_info": {
   "codemirror_mode": {
    "name": "ipython",
    "version": 3
   },
   "file_extension": ".py",
   "mimetype": "text/x-python",
   "name": "python",
   "nbconvert_exporter": "python",
   "pygments_lexer": "ipython3",
   "version": "3.12.2"
  }
 },
 "nbformat": 4,
 "nbformat_minor": 2
}
