{
 "cells": [
  {
   "cell_type": "code",
   "execution_count": null,
   "metadata": {},
   "outputs": [],
   "source": [
    "# Create a function in Python\n",
    "\n",
    "\n",
    "def demo(name, age):\n",
    "\n",
    "    print(name, age)\n",
    "\n",
    "\n",
    "demo(\"Ben\", 25)\n"
   ]
  },
  {
   "cell_type": "code",
   "execution_count": null,
   "metadata": {},
   "outputs": [],
   "source": [
    "#  function with variable length of arguments\n",
    "\n",
    "def func1(*args):\n",
    "    for i in args:\n",
    "        print(i)\n",
    "\n",
    "func1(20, 40, 60)\n",
    "func1(80, 100)\n"
   ]
  },
  {
   "cell_type": "code",
   "execution_count": null,
   "metadata": {},
   "outputs": [],
   "source": [
    "# Return multiple values from a function\n",
    "\n",
    "def calculation(a, b):\n",
    "    addition = a + b\n",
    "    subtraction = a - b\n",
    "   \n",
    "    return addition, subtraction\n",
    "\n",
    "\n",
    "res = calculation(40, 10)\n",
    "print(res)\n",
    "\n"
   ]
  },
  {
   "cell_type": "code",
   "execution_count": null,
   "metadata": {},
   "outputs": [],
   "source": [
    "#  function with a default argument\n",
    "\n",
    "def show_employee(name, salary=9000):\n",
    "    print(\"Name:\", name, \"salary:\", salary)\n",
    "\n",
    "show_employee(\"Ben\", 12000)\n",
    "show_employee(\"Jessa\")\n"
   ]
  },
  {
   "cell_type": "code",
   "execution_count": null,
   "metadata": {},
   "outputs": [],
   "source": [
    "# inner function to calculate the addition in the following way\n",
    " \n",
    " \n",
    "def outer_fun(a, b):\n",
    "    square = a ** 2\n",
    "\n",
    " \n",
    "    def addition(a, b):\n",
    "        return a + b\n",
    "\n",
    "    \n",
    "    add = addition(a, b)\n",
    "   \n",
    "    return add + 5\n",
    "\n",
    "result = outer_fun(5, 10)\n",
    "print(result)\n"
   ]
  },
  {
   "cell_type": "code",
   "execution_count": null,
   "metadata": {},
   "outputs": [],
   "source": [
    "# recursive function\n",
    "\n",
    "def addition(num):\n",
    "    if num:\n",
    "     \n",
    "        return num + addition(num - 1)\n",
    "    else:\n",
    "        return 0\n",
    "\n",
    "res = addition(10)\n",
    "print(res)\n"
   ]
  },
  {
   "cell_type": "code",
   "execution_count": null,
   "metadata": {},
   "outputs": [],
   "source": [
    "# different name to function and call it through the new name\n",
    "\n",
    "def display_student(name, age):\n",
    "    print(name, age)\n",
    "\n",
    "\n",
    "display_student(\"Emma\", 26)\n",
    "\n",
    "\n",
    "showStudent = display_student\n",
    "\n",
    "showStudent(\"Emma\", 26)\n",
    "\n"
   ]
  },
  {
   "cell_type": "code",
   "execution_count": null,
   "metadata": {},
   "outputs": [],
   "source": [
    "# Generate a Python list of all the even numbers between 4 to 30\n",
    "\n",
    "print(list(range(4, 30, 2)))"
   ]
  },
  {
   "cell_type": "code",
   "execution_count": null,
   "metadata": {},
   "outputs": [],
   "source": [
    "# Find the largest item from a given list\n",
    "\n",
    "x = [4, 6, 8, 24, 12, 2]\n",
    "print(max(x))\n"
   ]
  }
 ],
 "metadata": {
  "kernelspec": {
   "display_name": "Python 3",
   "language": "python",
   "name": "python3"
  },
  "language_info": {
   "codemirror_mode": {
    "name": "ipython",
    "version": 3
   },
   "file_extension": ".py",
   "mimetype": "text/x-python",
   "name": "python",
   "nbconvert_exporter": "python",
   "pygments_lexer": "ipython3",
   "version": "3.12.2"
  }
 },
 "nbformat": 4,
 "nbformat_minor": 2
}
