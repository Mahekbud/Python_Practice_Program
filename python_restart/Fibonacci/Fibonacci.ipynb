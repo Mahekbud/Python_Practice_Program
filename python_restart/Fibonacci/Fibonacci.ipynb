{
 "cells": [
  {
   "cell_type": "code",
   "execution_count": null,
   "metadata": {},
   "outputs": [],
   "source": [
    "# Fibonacci series\n",
    "\n",
    "num_terms = int(input(\"Enter the number of Fibonacci numbers to generate: \"))\n",
    "\n",
    "a, b = 0, 1\n",
    "\n",
    "print(\"Fibonacci series:\", end=\" \")\n",
    "print(a, b, end=\", \")\n",
    "\n",
    "for _ in range(num_terms - 2):  \n",
    "    c = a + b\n",
    "    print(c, end=\", \")\n",
    "    a, b = b, c\n"
   ]
  },
  {
   "cell_type": "code",
   "execution_count": null,
   "metadata": {},
   "outputs": [],
   "source": [
    "#fibonacci series\n",
    "n= int(input(\"enter number\"))\n",
    "a =0\n",
    "b=1\n",
    "print(a,b,end=\" \")\n",
    "for i in range(n):\n",
    "  \n",
    "    c= a+b\n",
    "    print(c,end=\" \")\n",
    "    a=b\n",
    "    b=c\n"
   ]
  },
  {
   "cell_type": "code",
   "execution_count": 1,
   "metadata": {},
   "outputs": [
    {
     "name": "stdout",
     "output_type": "stream",
     "text": [
      "0 1 1 2 3 \n",
      "Sum of the first 5 terms of Fibonacci series: 6\n"
     ]
    }
   ],
   "source": [
    "# Fibonacci series AND sum\n",
    "\n",
    "n = int(input(\"Enter number of terms: \"))\n",
    "\n",
    "a, b = 0, 1\n",
    "fib_sum = a  \n",
    "\n",
    "\n",
    "print(a, b, end=\" \")  \n",
    "for i in range(n - 2):  \n",
    "    c = a + b  \n",
    "    fib_sum += c \n",
    "    print(c, end=\" \")  \n",
    "    a, b = b, c  \n",
    "\n",
    "print(\"\\nSum of the first\", n, \"terms of Fibonacci series:\", fib_sum)"
   ]
  },
  {
   "cell_type": "code",
   "execution_count": 3,
   "metadata": {},
   "outputs": [
    {
     "name": "stdout",
     "output_type": "stream",
     "text": [
      "Sum of the first 5 terms of Fibonacci series: 7\n"
     ]
    }
   ],
   "source": [
    "# Fibonacci series sum\n",
    "\n",
    "n = int(input(\"Enter the number of terms: \"))\n",
    "\n",
    "a, b = 0, 1\n",
    "fib_sum = 0  \n",
    "\n",
    "for _ in range(n):\n",
    "    fib_sum += a \n",
    "    a, b = b, a + b  \n",
    "\n",
    "print(\"Sum of the first\", n, \"terms of Fibonacci series:\", fib_sum)\n"
   ]
  }
 ],
 "metadata": {
  "kernelspec": {
   "display_name": "Python 3",
   "language": "python",
   "name": "python3"
  },
  "language_info": {
   "codemirror_mode": {
    "name": "ipython",
    "version": 3
   },
   "file_extension": ".py",
   "mimetype": "text/x-python",
   "name": "python",
   "nbconvert_exporter": "python",
   "pygments_lexer": "ipython3",
   "version": "3.12.2"
  }
 },
 "nbformat": 4,
 "nbformat_minor": 2
}
