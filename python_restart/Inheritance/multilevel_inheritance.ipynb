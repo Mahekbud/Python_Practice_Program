{
 "cells": [
  {
   "cell_type": "code",
   "execution_count": null,
   "metadata": {},
   "outputs": [],
   "source": [
    "# multilevel inheritance\n",
    "\n",
    "class vehicle:\n",
    "    def __init__(self, name, sex):\n",
    "        self.name = name\n",
    "        self.sex = sex\n",
    "    \n",
    "    def person_info(self):\n",
    "        print('Inside Person class')\n",
    "        print(self.name, self.sex)\n",
    "\n",
    "        \n",
    "class car(vehicle):\n",
    "    def __init__(self, name, sex):\n",
    "        self.name = name\n",
    "        self.sex = sex\n",
    "        \n",
    "    def car_info(self):\n",
    "        print(\"Inside Car class\")\n",
    "        \n",
    "c1 = car('Mark', 'Male')\n",
    "\n",
    "c1.person_info()\n",
    "c1.car_info()"
   ]
  },
  {
   "cell_type": "code",
   "execution_count": null,
   "metadata": {},
   "outputs": [],
   "source": [
    "# multilevel inheritance with super() function\n",
    "\n",
    "class Vehicle:\n",
    "    def __init__(self, name, sex):\n",
    "        self.name = name\n",
    "        self.sex = sex\n",
    "    \n",
    "    def person_info(self):\n",
    "        print('Inside Vehicle class')\n",
    "        print(self.name, self.sex)\n",
    "\n",
    "        \n",
    "class Car(Vehicle):\n",
    "    def __init__(self, name, sex):\n",
    "        super().__init__(name, sex)\n",
    "        \n",
    "    def car_info(self):\n",
    "        print(\"Inside Car class\")\n",
    "        \n",
    "c1 = Car('Mark', 'Male')\n",
    "\n",
    "c1.person_info()\n",
    "c1.car_info()\n"
   ]
  },
  {
   "cell_type": "code",
   "execution_count": 8,
   "metadata": {},
   "outputs": [
    {
     "name": "stdout",
     "output_type": "stream",
     "text": [
      "This Car Name is :  BMW\n",
      "This bike Name is :  Yamaha\n",
      "This cycle Name is :  Honda\n"
     ]
    }
   ],
   "source": [
    "# multilevel inheritance\n",
    "\n",
    "class vehicle:\n",
    "    def car(self,name):\n",
    "        print(\"This Car Name is : \",name)\n",
    "        \n",
    "class bike(vehicle):\n",
    "    def bike_info(self,name):\n",
    "        print(\"This bike Name is : \",name)\n",
    "\n",
    "class cycle(bike):\n",
    "    def cycle_info(self,name):\n",
    "        print(\"This cycle Name is : \",name)\n",
    "        \n",
    "c1 = cycle()\n",
    "c1.car(\"BMW\")\n",
    "c1.bike_info(\"Yamaha\")\n",
    "c1.cycle_info(\"Honda\")\n",
    "\n",
    "    "
   ]
  },
  {
   "cell_type": "code",
   "execution_count": null,
   "metadata": {},
   "outputs": [],
   "source": []
  }
 ],
 "metadata": {
  "kernelspec": {
   "display_name": "Python 3",
   "language": "python",
   "name": "python3"
  },
  "language_info": {
   "codemirror_mode": {
    "name": "ipython",
    "version": 3
   },
   "file_extension": ".py",
   "mimetype": "text/x-python",
   "name": "python",
   "nbconvert_exporter": "python",
   "pygments_lexer": "ipython3",
   "version": "3.12.2"
  }
 },
 "nbformat": 4,
 "nbformat_minor": 2
}
