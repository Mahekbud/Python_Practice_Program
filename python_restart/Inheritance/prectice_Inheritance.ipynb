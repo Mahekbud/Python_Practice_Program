{
 "cells": [
  {
   "cell_type": "code",
   "execution_count": null,
   "metadata": {},
   "outputs": [],
   "source": [
    "# single inheritance\n",
    "\n",
    "class Vehicle:\n",
    "    def Vehicle_info(self):\n",
    "        print('Inside Vehicle class')\n",
    "\n",
    "class Car(Vehicle):\n",
    "    def car_info(self):\n",
    "        print('Inside Car class')\n",
    "\n",
    "car = Car()\n",
    "\n",
    "car.Vehicle_info()\n",
    "car.car_info()\n"
   ]
  },
  {
   "cell_type": "code",
   "execution_count": null,
   "metadata": {},
   "outputs": [],
   "source": [
    "# two perent class in one child class \n",
    "\n",
    "class person:\n",
    "    def person_info(self):\n",
    "        print('Inside Person class')\n",
    "        \n",
    "class employee:\n",
    "    def employee_info(self):\n",
    "        print('Inside Employee class')\n",
    "        \n",
    "class manager(person,employee):\n",
    "    def manager_info(self):\n",
    "        print('Inside Manager class')\n",
    "        \n",
    "manager = manager()\n",
    "\n",
    "manager.person_info()\n",
    "manager.employee_info()\n",
    "manager.manager_info()"
   ]
  },
  {
   "cell_type": "code",
   "execution_count": null,
   "metadata": {},
   "outputs": [],
   "source": [
    "# single inheritance\n",
    "\n",
    "class Person:\n",
    "    def __init__(self, name, sex, profession):\n",
    "        \n",
    "        self.name = name\n",
    "        self.sex = sex\n",
    "        self.profession = profession\n",
    "\n",
    "    def show(self):\n",
    "        print('Name:', self.name, 'Sex:', self.sex, 'Profession:', self.profession)\n",
    "\n",
    "    def work(self):\n",
    "        print(self.name, 'working as a', self.profession)\n",
    "        \n",
    "p1 = Person('Mark', 'Male', 'Software Engineer')\n",
    "p1.show()\n",
    "p1.work()"
   ]
  },
  {
   "cell_type": "code",
   "execution_count": 11,
   "metadata": {},
   "outputs": [
    {
     "name": "stdout",
     "output_type": "stream",
     "text": [
      "Inside Person class\n",
      "mahek female\n",
      "Inside Employee class\n",
      "5000\n",
      "inside manager class\n",
      "mahek female 5000 developer\n"
     ]
    }
   ],
   "source": [
    "# multiple inheritance\n",
    "\n",
    "class person:\n",
    "    def person_info(self,name,sex):\n",
    "        print('Inside Person class')\n",
    "        print(name, sex)\n",
    "  \n",
    "class employee:\n",
    "    def employee_info(self,salary):\n",
    "        print('Inside Employee class')\n",
    "        print(salary)\n",
    "        \n",
    "class manager(person,employee):\n",
    "    def manager_info(self, name, sex, salary, skill):\n",
    "        print(\"inside manager class\")\n",
    "        print( name, sex, salary, skill)\n",
    "          \n",
    "m1= manager()\n",
    "m1.person_info(\"mahek\",\"female\")\n",
    "m1.employee_info(5000)\n",
    "m1.manager_info(\"mahek\",\"female\",5000,\"developer\")"
   ]
  },
  {
   "cell_type": "code",
   "execution_count": null,
   "metadata": {},
   "outputs": [],
   "source": [
    "# multiple inheritance with constructor\n",
    "\n",
    "class Person:\n",
    "    def __init__(self, name, sex):\n",
    "        self.name = name\n",
    "        self.sex = sex\n",
    "    \n",
    "    def person_info(self):\n",
    "        print('Inside Person class')\n",
    "        print(self.name, self.sex)\n",
    "\n",
    "class Employee:\n",
    "    def __init__(self, salary):\n",
    "        self.salary = salary\n",
    "    \n",
    "    def employee_info(self):\n",
    "        print('Inside Employee class')\n",
    "        print(self.salary)\n",
    "\n",
    "class Manager(Person, Employee):\n",
    "    def __init__(self, name, sex, salary, skill):\n",
    "        Person.__init__(self, name, sex)\n",
    "        Employee.__init__(self, salary)\n",
    "        self.skill = skill\n",
    "    \n",
    "    def manager_info(self):\n",
    "        print(\"Inside Manager class\")\n",
    "        print(self.skill)\n",
    "\n",
    "m1 = Manager(\"Mahek\", \"female\", 50000, \"Leadership\")\n",
    "\n",
    "m1.person_info()\n",
    "m1.employee_info()\n",
    "m1.manager_info()\n"
   ]
  },
  {
   "cell_type": "code",
   "execution_count": null,
   "metadata": {},
   "outputs": [],
   "source": []
  }
 ],
 "metadata": {
  "kernelspec": {
   "display_name": "Python 3",
   "language": "python",
   "name": "python3"
  },
  "language_info": {
   "codemirror_mode": {
    "name": "ipython",
    "version": 3
   },
   "file_extension": ".py",
   "mimetype": "text/x-python",
   "name": "python",
   "nbconvert_exporter": "python",
   "pygments_lexer": "ipython3",
   "version": "3.12.2"
  }
 },
 "nbformat": 4,
 "nbformat_minor": 2
}
