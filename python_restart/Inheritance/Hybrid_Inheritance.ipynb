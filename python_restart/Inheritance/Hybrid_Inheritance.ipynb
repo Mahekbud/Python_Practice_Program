{
 "cells": [
  {
   "cell_type": "code",
   "execution_count": 1,
   "metadata": {},
   "outputs": [
    {
     "name": "stdout",
     "output_type": "stream",
     "text": [
      "Inside Vehicle class\n",
      "Inside Car class\n",
      "Inside SportsCar class\n"
     ]
    }
   ],
   "source": [
    "class Vehicle:\n",
    "    def vehicle_info(self):\n",
    "        print(\"Inside Vehicle class\")\n",
    "\n",
    "class Car(Vehicle):\n",
    "    def car_info(self):\n",
    "        print(\"Inside Car class\")\n",
    "\n",
    "class Truck(Vehicle):\n",
    "    def truck_info(self):\n",
    "        print(\"Inside Truck class\")\n",
    "\n",
    "class SportsCar(Car, Vehicle):\n",
    "    def sports_car_info(self):\n",
    "        print(\"Inside SportsCar class\")\n",
    "\n",
    "s_car = SportsCar()\n",
    "\n",
    "s_car.vehicle_info()\n",
    "s_car.car_info()\n",
    "s_car.sports_car_info()"
   ]
  },
  {
   "cell_type": "code",
   "execution_count": 4,
   "metadata": {},
   "outputs": [
    {
     "name": "stdout",
     "output_type": "stream",
     "text": [
      "Inside Parent class\n",
      "Inside Child class\n"
     ]
    }
   ],
   "source": [
    "# super function\n",
    "\n",
    "class Parent:\n",
    "    def __init__(self):\n",
    "        print(\"Inside Parent class\")\n",
    "\n",
    "class Child(Parent):\n",
    "    def __init__(self):\n",
    "        super().__init__()  # Call the __init__ method of the Parent class\n",
    "        print(\"Inside Child class\")\n",
    "\n",
    "c = Child()\n"
   ]
  },
  {
   "cell_type": "code",
   "execution_count": 15,
   "metadata": {},
   "outputs": [
    {
     "name": "stdout",
     "output_type": "stream",
     "text": [
      "True\n",
      "False\n",
      "False\n",
      "True\n",
      "True\n"
     ]
    }
   ],
   "source": [
    "# issubclass\n",
    "\n",
    "class Company:\n",
    "    def fun1(self):\n",
    "        print(\"Inside parent class\")\n",
    "\n",
    "class Employee(Company):\n",
    "    def fun2(self):\n",
    "        print(\"Inside child class.\")\n",
    "\n",
    "class Player:\n",
    "    def fun3(self):\n",
    "        print(\"Inside Player class.\")\n",
    "\n",
    "print(issubclass(Employee, Company))\n",
    "\n",
    "print(issubclass(Employee, list))\n",
    "\n",
    "print(issubclass(Player, Company))\n",
    "\n",
    "print(issubclass(Employee, (list, Company)))\n",
    "\n",
    "print(issubclass(Company, (list, Company)))"
   ]
  },
  {
   "cell_type": "code",
   "execution_count": 16,
   "metadata": {},
   "outputs": [
    {
     "name": "stdout",
     "output_type": "stream",
     "text": [
      " From class B\n"
     ]
    }
   ],
   "source": [
    "# hybrid inheritance\n",
    "\n",
    "class A:  \n",
    "    def demo (self):\n",
    "        print(\" From class A\")\n",
    "\n",
    "class B(A): \n",
    "    def demo(self):\n",
    "        print(\" From class B\")\n",
    "\n",
    "class C(A): \n",
    "    def demo(self):\n",
    "        print(\" From class C\")\n",
    "\n",
    "# To check MRO \n",
    "class D(B,C): \n",
    "    def check(self):\n",
    "        print(\"This is an example showing Method Resolution order\")\n",
    "\n",
    "obj = D() \n",
    "obj.demo()\n",
    "\n"
   ]
  },
  {
   "cell_type": "code",
   "execution_count": 19,
   "metadata": {},
   "outputs": [
    {
     "name": "stdout",
     "output_type": "stream",
     "text": [
      "Inside Vehicle class\n",
      "Inside Car class\n",
      "Inside SportsCar class\n"
     ]
    }
   ],
   "source": [
    "# Hybrid inheritance\n",
    "\n",
    "class Vehicle:\n",
    "    def vehicle_info(self):\n",
    "        print(\"Inside Vehicle class\")\n",
    "\n",
    "class Car(Vehicle):\n",
    "    def car_info(self):\n",
    "        print(\"Inside Car class\")\n",
    "\n",
    "class Truck(Vehicle):\n",
    "    def truck_info(self):\n",
    "        print(\"Inside Truck class\")\n",
    "\n",
    "class SportsCar(Car, Vehicle):\n",
    "    def sports_car_info(self):\n",
    "        print(\"Inside SportsCar class\")\n",
    "\n",
    "s_car = SportsCar()\n",
    "\n",
    "s_car.vehicle_info()\n",
    "s_car.car_info()\n",
    "s_car.sports_car_info()\n"
   ]
  }
 ],
 "metadata": {
  "kernelspec": {
   "display_name": "Python 3",
   "language": "python",
   "name": "python3"
  },
  "language_info": {
   "codemirror_mode": {
    "name": "ipython",
    "version": 3
   },
   "file_extension": ".py",
   "mimetype": "text/x-python",
   "name": "python",
   "nbconvert_exporter": "python",
   "pygments_lexer": "ipython3",
   "version": "3.12.2"
  }
 },
 "nbformat": 4,
 "nbformat_minor": 2
}
