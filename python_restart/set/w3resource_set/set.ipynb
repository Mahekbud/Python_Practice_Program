{
 "cells": [
  {
   "cell_type": "code",
   "execution_count": null,
   "metadata": {},
   "outputs": [],
   "source": [
    "# create a set\n",
    "\n",
    "x = set()\n",
    "\n",
    "print(type(x))\n",
    "\n",
    "new_set = set([0, 1, 2, 3, 4])\n",
    "\n",
    "print(type(new_set))"
   ]
  },
  {
   "cell_type": "code",
   "execution_count": null,
   "metadata": {},
   "outputs": [],
   "source": [
    "# Define a set\n",
    "my_set = {1, 2, 3, 4, 5}\n",
    "\n",
    "# Iterate over the set using a for loop\n",
    "print(\"Iterating over the set using a for loop:\")\n",
    "for element in my_set:\n",
    "    print(element)\n",
    "\n",
    "# Alternatively, you can use set comprehension to achieve the same result\n",
    "print(\"\\nIterating over the set using set comprehension:\")\n",
    "{print(element) for element in my_set}\n",
    "\n",
    "# You can also use the built-in iter() function to create an iterator and then use next() function to iterate over the set\n",
    "print(\"\\nIterating over the set using iterator:\")\n",
    "iterator = iter(my_set)\n",
    "while True:\n",
    "    try:\n",
    "        print(next(iterator))\n",
    "    except StopIteration:\n",
    "        break\n",
    "\n",
    "# Another way is to convert the set to a list and then iterate over the list\n",
    "print(\"\\nIterating over the set by converting it to a list:\")\n",
    "for element in list(my_set):\n",
    "    print(element)\n"
   ]
  },
  {
   "cell_type": "code",
   "execution_count": null,
   "metadata": {},
   "outputs": [],
   "source": [
    "# itreation over set\n",
    "\n",
    "num_set = set([0, 1, 2, 3, 4, 5])\n",
    "\n",
    "for n in num_set:\n",
    "    print(n, end=' ')\n",
    "    \n",
    "print(\"\\n\")\n",
    "    \n",
    "char_set = set(\"w3resource\")\n",
    "\n",
    "for val in char_set:\n",
    "    print(val, end=' ') \n"
   ]
  },
  {
   "cell_type": "code",
   "execution_count": null,
   "metadata": {},
   "outputs": [],
   "source": [
    "# Add elements to a set\n",
    "\n",
    "my_set = {\"apple\", \"banana\", \"cherry\"}\n",
    "\n",
    "my_set.add(\"orange\")\n",
    "\n",
    "print(my_set)"
   ]
  },
  {
   "cell_type": "code",
   "execution_count": null,
   "metadata": {},
   "outputs": [],
   "source": [
    "# Remove elements from a set\n",
    "\n",
    "my_set = {\"apple\", \"banana\", \"cherry\"}\n",
    "\n",
    "my_set.remove(\"banana\")\n",
    "\n",
    "my_set.pop()    # last item will be removed\n",
    "\n",
    "print(my_set)"
   ]
  },
  {
   "cell_type": "code",
   "execution_count": null,
   "metadata": {},
   "outputs": [],
   "source": [
    "# this item is present or not in the set\n",
    "\n",
    "my_set = {\"apple\", \"banana\", \"cherry\"}\n",
    "\n",
    "print(\"kiwi\" in my_set)"
   ]
  },
  {
   "cell_type": "code",
   "execution_count": null,
   "metadata": {},
   "outputs": [],
   "source": [
    "# Remove an item from a set if it is present in the set\n",
    "\n",
    "my_set = set([1,2,3,4,5,6])\n",
    "\n",
    "my_set.remove(5)\n",
    "\n",
    "print(my_set)\n",
    "\n",
    "my_set.discard(12)   # if the item is not present, discard() will not raise an error\n",
    "\n",
    "print(my_set)"
   ]
  },
  {
   "cell_type": "code",
   "execution_count": null,
   "metadata": {},
   "outputs": [],
   "source": [
    "# difference between discard() and remove()\n",
    "\n",
    "my_set = {1, 2, 3, 4, 5}\n",
    "my_set.discard(3)  \n",
    "my_set.discard(6)  # 6 is not present, so discard() does nothing\n",
    "print(my_set) \n",
    "\n",
    "my_set = {6,7,8,9,10}\n",
    "my_set.remove(8)  \n",
    "print(my_set)\n",
    "\n",
    "my_set.remove(3)  # keyerror : 3 \n",
    "print(my_set)\n"
   ]
  },
  {
   "cell_type": "code",
   "execution_count": null,
   "metadata": {},
   "outputs": [],
   "source": [
    "# difference between my_set and my_set2\n",
    "\n",
    "my_set = {1, 2, 3, 4, 5}\n",
    "\n",
    "my_set2 = {6,3,5,9,10}\n",
    "\n",
    "new_set = my_set.difference(my_set2)\n",
    "\n",
    "print(new_set)\n",
    "\n",
    "new_set2 = my_set2.difference(my_set)\n",
    "\n",
    "print(new_set2)\n"
   ]
  },
  {
   "cell_type": "code",
   "execution_count": null,
   "metadata": {},
   "outputs": [],
   "source": [
    "# Intersection of sets\n",
    "\n",
    "my_set = {1, 2, 3, 4, 5}\n",
    "\n",
    "my_set2 = {4, 5, 6, 7, 8}\n",
    "\n",
    "new_set = my_set.intersection(my_set2)\n",
    "\n",
    "print(new_set)\n",
    "\n",
    "#  * * * * * * * * * * * * * *\n",
    "\n",
    "my_set = {1, 2, 3, 4, 5}\n",
    "\n",
    "my_set2 = {3, 5, 10, 7, 1}\n",
    "\n",
    "diff = my_set & my_set2\n",
    "\n",
    "print(diff)"
   ]
  },
  {
   "cell_type": "code",
   "execution_count": null,
   "metadata": {},
   "outputs": [],
   "source": [
    "# forzenset \n",
    "\n",
    "x = frozenset([1, 2, 3, 4, 5])\n",
    "\n",
    "y = frozenset([3, 4, 5, 6, 7])\n",
    "\n",
    "print(x.isdisjoint(y))  # true or false\n",
    "\n",
    "print(x.difference(y))   # difference\n",
    "\n",
    "print(x | y)  # union of two sets\n"
   ]
  },
  {
   "cell_type": "code",
   "execution_count": null,
   "metadata": {},
   "outputs": [],
   "source": [
    "# max() and min()\n",
    "\n",
    "my_set = {1, 2, 3, 4, 5}\n",
    "\n",
    "print(max(my_set))\n",
    "\n",
    "print(min(my_set))\n",
    "\n"
   ]
  },
  {
   "cell_type": "code",
   "execution_count": null,
   "metadata": {},
   "outputs": [],
   "source": [
    "# length of set\n",
    "\n",
    "my_set = {6,7,8,3,9,10}\n",
    "\n",
    "print(len(my_set))"
   ]
  },
  {
   "cell_type": "code",
   "execution_count": null,
   "metadata": {},
   "outputs": [],
   "source": [
    "# remove duplicate from list\n",
    "\n",
    "strings = [\"apple\", \"banana\", \"orange\", \"apple\", \"banana\", \"grape\"]\n",
    "\n",
    "unique_strings = list(set(strings))\n",
    "\n",
    "print(unique_strings)\n",
    "\n"
   ]
  },
  {
   "cell_type": "code",
   "execution_count": null,
   "metadata": {},
   "outputs": [],
   "source": [
    "# find third largest number\n",
    "\n",
    "numbers = [10, 5, 23, 8, 15, 23, 42, 8]\n",
    "\n",
    "unique_nums = list(set(numbers))\n",
    "\n",
    "unique_nums.sort(reverse=True)\n",
    "\n",
    "if len(unique_nums) < 3:\n",
    "    print(\"There are less than three unique numbers in the list.\")\n",
    "else:\n",
    "    print(\"Third largest number:\", unique_nums[2])\n"
   ]
  },
  {
   "cell_type": "code",
   "execution_count": null,
   "metadata": {},
   "outputs": [],
   "source": [
    "#  Find and group all the anagrams in the given list\n",
    "\n",
    "words = [\"eat\", \"tea\", \"tan\", \"ate\", \"nat\", \"bat\"]\n",
    "\n",
    "groups = {}\n",
    "\n",
    "for word in words:\n",
    " \n",
    "    sorted= ''.join(sorted(word))\n",
    "    \n",
    "    if sorted in groups:\n",
    "        groups[sorted].append(word)\n",
    "    else:\n",
    "        groups[sorted] = [word]\n",
    "\n",
    "grouped = list(groups.values())\n",
    "\n",
    "print(\"Groups of anagrams:\", grouped)\n"
   ]
  },
  {
   "cell_type": "code",
   "execution_count": 103,
   "metadata": {},
   "outputs": [
    {
     "name": "stdout",
     "output_type": "stream",
     "text": [
      "missing numbers in list1 and list2 : {1, 2, 3}\n",
      "missing numbers in list2 and list1 : {8, 6, 7}\n"
     ]
    }
   ],
   "source": [
    "#  Find the missing numbers between the two sets\n",
    "\n",
    "list1 = {1, 2, 3, 4, 5}\n",
    "list2 = {4, 5, 6, 7, 8}\n",
    "\n",
    "print(\"missing numbers in list1 and list2 :\",(list1-list2))\n",
    "\n",
    "print(\"missing numbers in list2 and list1 :\",(list2-list1))"
   ]
  },
  {
   "cell_type": "code",
   "execution_count": 109,
   "metadata": {},
   "outputs": [
    {
     "name": "stdout",
     "output_type": "stream",
     "text": [
      "Pairs with sum equal to 4 : [(-2, 6)]\n"
     ]
    }
   ],
   "source": [
    "def find_pairs_with_sum(nums, target):\n",
    "    pairs = []\n",
    "    seen = set()  # To keep track of seen numbers\n",
    "    \n",
    "    for num in nums:\n",
    "        complement = target - num\n",
    "        if complement in seen:\n",
    "            pairs.append((num, complement))\n",
    "        seen.add(num)\n",
    "    \n",
    "    return pairs\n",
    "\n",
    "# Example usage:\n",
    "numbers = [2, 4, 3, 5, 6, -2, 4, 7, 8, 9]\n",
    "target = 4\n",
    "result = find_pairs_with_sum(numbers, target)\n",
    "print(\"Pairs with sum equal to\", target, \":\", result)\n"
   ]
  },
  {
   "cell_type": "code",
   "execution_count": 113,
   "metadata": {},
   "outputs": [
    {
     "name": "stdout",
     "output_type": "stream",
     "text": [
      "pairs sum is 7: [(4, 3), (6, 1)]\n"
     ]
    }
   ],
   "source": [
    "# find pairs sum is 7\n",
    "\n",
    "nums = {2,4,6,3,7,1,8,9}\n",
    "sum = 7\n",
    "pairs = []\n",
    "\n",
    "seen = set()\n",
    "\n",
    "for num in nums:\n",
    "    complement = sum - num\n",
    "    if complement in seen:\n",
    "        pairs.append((num, complement))\n",
    "    seen.add(num)\n",
    "\n",
    "print(f\"pairs sum is {sum}:\",(pairs))"
   ]
  },
  {
   "cell_type": "code",
   "execution_count": 118,
   "metadata": {},
   "outputs": [
    {
     "name": "stdout",
     "output_type": "stream",
     "text": [
      "{'apple': 3, 'banana': 2, 'cherry': 3}\n"
     ]
    }
   ],
   "source": [
    "# Python program to find all the unique words and count the frequency of occurrence from a given list of strings\n",
    "\n",
    "my_set = [\"apple\", \"banana\", \"cherry\", \"apple\", \"cherry\", \"apple\", \"banana\", \"cherry\"]\n",
    "\n",
    "word = {}\n",
    "\n",
    "for item in my_set:\n",
    "    if item in word:\n",
    "        word[item] += 1\n",
    "    else:\n",
    "        word[item] = 1\n",
    "\n",
    "print(word)\n"
   ]
  },
  {
   "cell_type": "code",
   "execution_count": 120,
   "metadata": {},
   "outputs": [
    {
     "name": "stdout",
     "output_type": "stream",
     "text": [
      "{1, 2, 3}\n"
     ]
    }
   ],
   "source": [
    "# Remove the intersection of a 2nd set from the 1st set\n",
    "\n",
    "my_set = {1, 2, 3, 4, 5}\n",
    "my_set2 = {4, 5, 6, 7, 8}\n",
    "\n",
    "# Create a copy of my_set so we can modify it while iterating over it\n",
    "my_set_copy = my_set.copy()\n",
    "\n",
    "for item in my_set_copy:\n",
    "    if item in my_set2:\n",
    "        my_set.remove(item)\n",
    "\n",
    "print(my_set)\n"
   ]
  }
 ],
 "metadata": {
  "kernelspec": {
   "display_name": "Python 3",
   "language": "python",
   "name": "python3"
  },
  "language_info": {
   "codemirror_mode": {
    "name": "ipython",
    "version": 3
   },
   "file_extension": ".py",
   "mimetype": "text/x-python",
   "name": "python",
   "nbconvert_exporter": "python",
   "pygments_lexer": "ipython3",
   "version": "3.12.2"
  }
 },
 "nbformat": 4,
 "nbformat_minor": 2
}
