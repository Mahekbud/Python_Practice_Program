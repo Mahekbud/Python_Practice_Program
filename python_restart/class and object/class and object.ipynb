{
 "cells": [
  {
   "cell_type": "code",
   "execution_count": 13,
   "metadata": {},
   "outputs": [
    {
     "name": "stdout",
     "output_type": "stream",
     "text": [
      "{'name': 'Mahek', 'rollno': 15, 'marks': 90}\n"
     ]
    }
   ],
   "source": [
    " # class and display the namespace of the said instance\n",
    "\n",
    "class student:\n",
    "    def __init__(self, name, rollno, marks):\n",
    "        self.name = name\n",
    "        self.rollno = rollno\n",
    "        self.marks = marks\n",
    "\n",
    "student1 = student(\"Mahek\", 15, 90)\n",
    "print(student1.__dict__)"
   ]
  },
  {
   "cell_type": "code",
   "execution_count": 14,
   "metadata": {},
   "outputs": [],
   "source": [
    "# Vehicle class without any variables and methods\n",
    "\n",
    "class Vehicle:\n",
    "    pass"
   ]
  },
  {
   "cell_type": "code",
   "execution_count": null,
   "metadata": {},
   "outputs": [],
   "source": [
    "# child class Bus that will inherit all of the variables and methods of the Vehicle class\n",
    "\n",
    "class Vehicle:\n",
    "\n",
    "    def __init__(self, name, max_speed, mileage):\n",
    "        self.name = name\n",
    "        self.max_speed = max_speed\n",
    "        self.mileage = mileage\n",
    "        \n",
    "class Bus(Vehicle):\n",
    "    pass\n",
    "\n",
    "bus = Bus(\"School Volvo\", 180, 12)\n",
    "print(bus.__dict__)"
   ]
  },
  {
   "cell_type": "code",
   "execution_count": 22,
   "metadata": {},
   "outputs": [
    {
     "name": "stdout",
     "output_type": "stream",
     "text": [
      "Student name is Mahek, rollno is 15, marks is 90\n"
     ]
    }
   ],
   "source": [
    "# Using function attributes display the names of all arguments\n",
    "\n",
    "def student(name, rollno, marks):\n",
    " #return \"student name is {0}, rollno is {1}, marks is {2}\".format(name, rollno, marks)\n",
    " return f\"Student name is {name}, rollno is {rollno}, marks is {marks}\"\n",
    "print(student(\"Mahek\", 15, 90))\n",
    "    \n",
    "    \n",
    "    "
   ]
  },
  {
   "cell_type": "code",
   "execution_count": 36,
   "metadata": {},
   "outputs": [
    {
     "name": "stdout",
     "output_type": "stream",
     "text": [
      "bike 180 1\n"
     ]
    }
   ],
   "source": [
    "# class and display the namespace of the said instance use method\n",
    "\n",
    "class vehicle:\n",
    "    def bus (self, name, max_speed, mileage):\n",
    "        self.name = name\n",
    "        self.max_speed = max_speed\n",
    "        self.mileage = mileage\n",
    "        \n",
    "    def display(self):\n",
    "        print (self.name, self.max_speed, self.mileage)\n",
    "    \n",
    "bus = vehicle()\n",
    "bus.bus(\"bike\", 180, 12)\n",
    "bus.display()"
   ]
  },
  {
   "cell_type": "code",
   "execution_count": 37,
   "metadata": {},
   "outputs": [
    {
     "name": "stdout",
     "output_type": "stream",
     "text": [
      "bike 180 12\n"
     ]
    }
   ],
   "source": [
    "# class and display the namespace of the said instance use constructor\n",
    "\n",
    "class Vehicle:\n",
    "    def __init__(self, name, max_speed, mileage):\n",
    "        self.name = name\n",
    "        self.max_speed = max_speed\n",
    "        self.mileage = mileage\n",
    "        \n",
    "    def display(self):\n",
    "        print(self.name, self.max_speed, self.mileage)\n",
    "    \n",
    "bus = Vehicle(\"bike\", 180, 12)\n",
    "bus.display()"
   ]
  },
  {
   "cell_type": "code",
   "execution_count": 38,
   "metadata": {},
   "outputs": [
    {
     "name": "stdout",
     "output_type": "stream",
     "text": [
      "Hello my name is John\n"
     ]
    }
   ],
   "source": [
    "# use del to delete the attributes\n",
    "\n",
    "class Person:\n",
    "  def __init__(self, name, age):\n",
    "    self.name = name\n",
    "    self.age = age\n",
    "\n",
    "  def myfunc(self):\n",
    "    print(\"Hello my name is \" + self.name)\n",
    "\n",
    "p1 = Person(\"John\", 36)\n",
    "\n",
    "del p1.age\n",
    "\n",
    "p1.myfunc()  \n"
   ]
  },
  {
   "cell_type": "code",
   "execution_count": 49,
   "metadata": {},
   "outputs": [
    {
     "name": "stdout",
     "output_type": "stream",
     "text": [
      "{'name': 'Mahek', 'rollno': 15}\n",
      "ABC\n",
      "{'name': 'mahi', 'rollno': 14}\n",
      "XYZ\n"
     ]
    }
   ],
   "source": [
    "# use class method to change the value of class variable\n",
    "\n",
    "class student:\n",
    "    \n",
    "    schoolname = \"ABC\"\n",
    "    \n",
    "    def __init__(self,name,rollno):\n",
    "        self.name = name\n",
    "        self.rollno = rollno\n",
    "        \n",
    "p1 = student(\"Mahek\", 15)\n",
    "print(p1.__dict__)\n",
    "print(p1.schoolname)\n",
    "\n",
    "\n",
    "student.schoolname = \"XYZ\"\n",
    "p1 = student(\"mahi\",14)\n",
    "print(p1.__dict__)\n",
    "print(p1.schoolname)\n",
    "        \n",
    "        \n",
    "    "
   ]
  },
  {
   "cell_type": "code",
   "execution_count": 50,
   "metadata": {},
   "outputs": [
    {
     "name": "stdout",
     "output_type": "stream",
     "text": [
      "Asabeneh Yetayeh is 250 years old. He lives in Helsinki, Finland.\n",
      "John Doe is 30 years old. He lives in Noman city, Nomanland.\n"
     ]
    }
   ],
   "source": [
    "class Person:\n",
    "      def __init__(self, firstname='Asabeneh', lastname='Yetayeh', age=250, country='Finland', city='Helsinki'):\n",
    "          self.firstname = firstname\n",
    "          self.lastname = lastname\n",
    "          self.age = age\n",
    "          self.country = country\n",
    "          self.city = city\n",
    "\n",
    "      def person_info(self):\n",
    "        return f'{self.firstname} {self.lastname} is {self.age} years old. He lives in {self.city}, {self.country}.'\n",
    "\n",
    "p1 = Person()\n",
    "print(p1.person_info())\n",
    "p2 = Person('John', 'Doe', 30, 'Nomanland', 'Noman city')\n",
    "print(p2.person_info())"
   ]
  }
 ],
 "metadata": {
  "kernelspec": {
   "display_name": "Python 3",
   "language": "python",
   "name": "python3"
  },
  "language_info": {
   "codemirror_mode": {
    "name": "ipython",
    "version": 3
   },
   "file_extension": ".py",
   "mimetype": "text/x-python",
   "name": "python",
   "nbconvert_exporter": "python",
   "pygments_lexer": "ipython3",
   "version": "3.12.2"
  }
 },
 "nbformat": 4,
 "nbformat_minor": 2
}
